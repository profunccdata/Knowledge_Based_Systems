{
  "nbformat": 4,
  "nbformat_minor": 0,
  "metadata": {
    "colab": {
      "name": "Untitled0.ipynb",
      "provenance": [],
      "authorship_tag": "ABX9TyNeJ3lBBANKAPOfX2zRxqcq",
      "include_colab_link": true
    },
    "kernelspec": {
      "name": "python3",
      "display_name": "Python 3"
    }
  },
  "cells": [
    {
      "cell_type": "markdown",
      "metadata": {
        "id": "view-in-github",
        "colab_type": "text"
      },
      "source": [
        "<a href=\"https://colab.research.google.com/github/profunccdata/Knowledge_Based_Systems/blob/master/Naive_Bayes_Classifier_Gaussian.ipynb\" target=\"_parent\"><img src=\"https://colab.research.google.com/assets/colab-badge.svg\" alt=\"Open In Colab\"/></a>"
      ]
    },
    {
      "cell_type": "markdown",
      "metadata": {
        "id": "YdlY7-j4Pg3V",
        "colab_type": "text"
      },
      "source": [
        "# Naive Bayes with Scikit-Learn (GaussianNB Model)"
      ]
    },
    {
      "cell_type": "markdown",
      "metadata": {
        "id": "RnE-wJ0aPR4k",
        "colab_type": "text"
      },
      "source": [
        "For our research, we are going to use the IRIS dataset, which comes with the Sckit-learn library. The dataset contains 3 classes of 50 instances each, where each class refers to a type of iris plant. Here we are going to use the GaussianNB model, which is already available in the Sckit-learn Library."
      ]
    },
    {
      "cell_type": "markdown",
      "metadata": {
        "id": "e1uBfw4QP2WO",
        "colab_type": "text"
      },
      "source": [
        "An extremely fast way to create a simple model is to assume that the data is described by a Gaussian distribution with no covariance between dimensions. This model can be fit by simply finding the mean and standard deviation of the points within each label, which is all you need to define such a distribution. The result of this naive Gaussian assumption is shown in the following figure:"
      ]
    },
    {
      "cell_type": "markdown",
      "metadata": {
        "id": "hGodeThyQOJC",
        "colab_type": "text"
      },
      "source": [
        "![alt text](https://drive.google.com/uc?id=1J7hjdaeTXoYNivfruB1MhzSxyanhFfRf)"
      ]
    },
    {
      "cell_type": "markdown",
      "metadata": {
        "id": "FHOyryzVR0tu",
        "colab_type": "text"
      },
      "source": [
        "The ellipses here represent the Gaussian generative model for each label, with larger probability toward the center of the ellipses. With this generative model in place for each class, we have a simple recipe to compute the likelihood P(features | L1) for any data point, and thus we can quickly compute the posterior ratio and determine which label is the most probable for a given point.\n",
        "\n",
        "This procedure is implemented in Scikit-Learn's sklearn.naive_bayes.GaussianNB estimator:\n"
      ]
    },
    {
      "cell_type": "code",
      "metadata": {
        "id": "niZNBivgOZvf",
        "colab_type": "code",
        "colab": {}
      },
      "source": [
        "from sklearn import datasets\n",
        "from sklearn import metrics\n",
        "from sklearn.naive_bayes import GaussianNB\n",
        "dataset = datasets.load_iris()"
      ],
      "execution_count": 0,
      "outputs": []
    },
    {
      "cell_type": "markdown",
      "metadata": {
        "id": "KO9C0QobO6S_",
        "colab_type": "text"
      },
      "source": [
        "## Creating our Naive Bayes Model using scikit-learn:"
      ]
    },
    {
      "cell_type": "code",
      "metadata": {
        "id": "0eL-gOaSO7Ru",
        "colab_type": "code",
        "colab": {
          "base_uri": "https://localhost:8080/",
          "height": 36
        },
        "outputId": "750c8916-44d1-40a2-b2cc-b86b154ed0f9"
      },
      "source": [
        "model = GaussianNB()\n",
        "\n",
        "model.fit(dataset.data, dataset.target)"
      ],
      "execution_count": 2,
      "outputs": [
        {
          "output_type": "execute_result",
          "data": {
            "text/plain": [
              "GaussianNB(priors=None, var_smoothing=1e-09)"
            ]
          },
          "metadata": {
            "tags": []
          },
          "execution_count": 2
        }
      ]
    },
    {
      "cell_type": "markdown",
      "metadata": {
        "id": "Ohf_a1dnPBM_",
        "colab_type": "text"
      },
      "source": [
        "### Making Predictions"
      ]
    },
    {
      "cell_type": "code",
      "metadata": {
        "id": "epqHmfLMPCRE",
        "colab_type": "code",
        "colab": {}
      },
      "source": [
        "expected = dataset.target\n",
        "\n",
        "predicted = model.predict(dataset.data)"
      ],
      "execution_count": 0,
      "outputs": []
    },
    {
      "cell_type": "markdown",
      "metadata": {
        "id": "8wNzbIicPGou",
        "colab_type": "text"
      },
      "source": [
        "### Evaluating Our Model"
      ]
    },
    {
      "cell_type": "markdown",
      "metadata": {
        "id": "I54x9ls-SSGq",
        "colab_type": "text"
      },
      "source": [
        "Here we will create a classification report that contains the various statistics required to judge a model. After that, we will create a confusion matrix which will give us a clear idea of the accuracy and the fitting of the model."
      ]
    },
    {
      "cell_type": "code",
      "metadata": {
        "id": "Eop2aWnfPHgO",
        "colab_type": "code",
        "colab": {
          "base_uri": "https://localhost:8080/",
          "height": 259
        },
        "outputId": "c43e514f-8754-4f00-a163-77568476986f"
      },
      "source": [
        "print(metrics.classification_report(expected, predicted))\n",
        "\n",
        "print(metrics.confusion_matrix(expected, predicted))"
      ],
      "execution_count": 5,
      "outputs": [
        {
          "output_type": "stream",
          "text": [
            "              precision    recall  f1-score   support\n",
            "\n",
            "           0       1.00      1.00      1.00        50\n",
            "           1       0.94      0.94      0.94        50\n",
            "           2       0.94      0.94      0.94        50\n",
            "\n",
            "    accuracy                           0.96       150\n",
            "   macro avg       0.96      0.96      0.96       150\n",
            "weighted avg       0.96      0.96      0.96       150\n",
            "\n",
            "[[50  0  0]\n",
            " [ 0 47  3]\n",
            " [ 0  3 47]]\n"
          ],
          "name": "stdout"
        }
      ]
    },
    {
      "cell_type": "markdown",
      "metadata": {
        "id": "hkMb30cFSZNR",
        "colab_type": "text"
      },
      "source": [
        "As you can see, the hundreds of lines of code can be summarized into just a few lines of code with Scikit-learn!"
      ]
    }
  ]
}